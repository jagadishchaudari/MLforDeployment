{
 "cells": [
  {
   "cell_type": "markdown",
   "metadata": {},
   "source": [
    "# Task 1"
   ]
  },
  {
   "cell_type": "code",
   "execution_count": 1,
   "metadata": {},
   "outputs": [],
   "source": [
    "##Write a Python Program to implement your own myreduce() function which works exactly like Python's built-in function reduce()"
   ]
  },
  {
   "cell_type": "code",
   "execution_count": 2,
   "metadata": {},
   "outputs": [
    {
     "data": {
      "text/plain": [
       "'List is empty'"
      ]
     },
     "execution_count": 2,
     "metadata": {},
     "output_type": "execute_result"
    }
   ],
   "source": [
    "def myreduce(function,lst=None):\n",
    "    cum_val = None\n",
    "    try:\n",
    "        cum_val = lst[0]\n",
    "    except Exception:\n",
    "        return 'List is empty'\n",
    "        \n",
    "    for item in lst[1:]:\n",
    "        cum_val = function(cum_val,item)\n",
    "    return cum_val\n",
    "\n",
    "myreduce(lambda x, y: x + y)"
   ]
  },
  {
   "cell_type": "code",
   "execution_count": 3,
   "metadata": {},
   "outputs": [],
   "source": [
    "##1.2Write a Python program to implement your own myfilter() function which works exactly like Python's built-in function filter()"
   ]
  },
  {
   "cell_type": "code",
   "execution_count": 4,
   "metadata": {},
   "outputs": [
    {
     "data": {
      "text/plain": [
       "[False, True, False, True]"
      ]
     },
     "execution_count": 4,
     "metadata": {},
     "output_type": "execute_result"
    }
   ],
   "source": [
    "def myfilter(function,lst=None):\n",
    "    res =[]\n",
    "    start = None\n",
    "    try:\n",
    "        start = lst[0]\n",
    "    except Exception:\n",
    "        return 'List is empty'\n",
    "    for item in lst:\n",
    "        res.append(function(item))\n",
    "    return res\n",
    "\n",
    "myfilter(lambda x: x % 2==0,[1,2,3,4])"
   ]
  },
  {
   "cell_type": "code",
   "execution_count": 5,
   "metadata": {},
   "outputs": [],
   "source": [
    "# 2.Write List comprehensions to produce the following Lists\n",
    "# ['A', 'C', 'A', 'D', 'G', 'I', ’L’, ‘ D’]\n",
    "# ['x', 'xx', 'xxx', 'xxxx', 'y', 'yy', 'yyy', 'yyyy', 'z', 'zz', 'zzz', 'zzzz'] ['x', 'y', 'z', 'xx', 'yy', 'zz', 'xx', 'yy', 'zz', 'xxxx', 'yyyy', 'zzzz']\n",
    "# [[2], [3], [4], [3], [4], [5], [4], [5], [6]]\n",
    "# [[2, 3, 4, 5], [3, 4, 5, 6], [4, 5, 6, 7], [5, 6, 7, 8]]\n",
    "# [(1, 1), (2, 1), (3, 1), (1, 2), (2, 2), (3, 2), (1, 3), (2, 3), (3, 3)]"
   ]
  },
  {
   "cell_type": "code",
   "execution_count": 6,
   "metadata": {},
   "outputs": [
    {
     "name": "stdout",
     "output_type": "stream",
     "text": [
      "['A', 'C', 'A', 'G', 'I', 'L', 'D']\n",
      "['x', 'xx', 'xxx', 'xxxx', 'y', 'yy', 'yyy', 'yyyy', 'z', 'zz', 'zzz', 'zzzz']\n",
      "['x', 'y', 'z', 'xx', 'yy', 'zz', 'xxx', 'yyy', 'zzz', 'xxxx', 'yyyy', 'zzzz']\n",
      "[[2], [3], [4], [3], [4], [5], [4], [5], [6]]\n",
      "[[2, 3, 4, 5], [3, 4, 5, 6], [4, 5, 6, 7], [5, 6, 7, 8]]\n",
      "[(1, 1), (2, 1), (3, 1), (1, 2), (2, 2), (3, 2), (1, 3), (2, 3), (3, 3)]\n"
     ]
    }
   ],
   "source": [
    "pat1 = [x for x in 'ACAGILD']\n",
    "print(pat1)\n",
    "pat2 = [x*y for x in 'xyz' for y in range(1,5)]\n",
    "print(pat2)\n",
    "pat3 = [x*i for i in range(1,5)  for x in 'xyz']\n",
    "print(pat3)\n",
    "pat4 = [[x+i] for i in range(3) for x in range(2,5)]\n",
    "print(pat4)\n",
    "pat5 = [[x+i for i in range(1,5)] for x in range(1,5)]\n",
    "print(pat5)\n",
    "pat6 = [(x,i) for i in range(1,4) for x in range(1,4)]\n",
    "print(pat6)"
   ]
  },
  {
   "cell_type": "code",
   "execution_count": 7,
   "metadata": {},
   "outputs": [],
   "source": [
    "##3.Implement a function longestWord() that takes a list of words and returns the longest one"
   ]
  },
  {
   "cell_type": "code",
   "execution_count": 8,
   "metadata": {},
   "outputs": [
    {
     "name": "stdout",
     "output_type": "stream",
     "text": [
      "abcde\n"
     ]
    }
   ],
   "source": [
    "def longestWord(lstofWords):\n",
    "    start = None\n",
    "    try:\n",
    "        longWord = lstofWords[0]\n",
    "    except Exception:\n",
    "        return 'List is empty'\n",
    "\n",
    "    for word in lstofWords[1:]:\n",
    "        if(len(word)>len(longWord)):\n",
    "            longWord = word\n",
    "    return longWord\n",
    "print(longestWord(['a','abcd','ab',' ','abcde','abc']))"
   ]
  },
  {
   "cell_type": "markdown",
   "metadata": {},
   "source": [
    "# Task 2"
   ]
  },
  {
   "cell_type": "code",
   "execution_count": 9,
   "metadata": {},
   "outputs": [],
   "source": [
    "#Write a Python Program(with class concepts) to find the area of the triangle using the below formula.\n",
    "#area = (s*(s-a)*(s-b)*(s-c)) ** 0.5\n",
    "#Function to take the length of the sides of triangle from user should be defined in the parent class and function to calculate the area should be defined in subclass."
   ]
  },
  {
   "cell_type": "code",
   "execution_count": 10,
   "metadata": {},
   "outputs": [],
   "source": [
    "class shape:\n",
    "    def __init__(self,a,b,c):\n",
    "        self.a = a \n",
    "        self.b = b\n",
    "        self.c = c"
   ]
  },
  {
   "cell_type": "code",
   "execution_count": 11,
   "metadata": {},
   "outputs": [],
   "source": [
    "class triangle(shape):\n",
    "    def __init__(self,s,a,b,c):\n",
    "        super().__init__(a,b,c)\n",
    "        self.s = s\n",
    "    \n",
    "    def area(self):\n",
    "        print('area = {0:.2f}'.format((self.s*(self.s-self.a)*(self.s-self.b)*(self.s-self.c)) ** 0.5))"
   ]
  },
  {
   "cell_type": "code",
   "execution_count": 12,
   "metadata": {},
   "outputs": [
    {
     "name": "stdout",
     "output_type": "stream",
     "text": [
      "area = 85.38\n"
     ]
    }
   ],
   "source": [
    "triangle(10,1,1,1).area()"
   ]
  },
  {
   "cell_type": "code",
   "execution_count": 13,
   "metadata": {},
   "outputs": [],
   "source": [
    "#Write a function filter_long_words() that takes a list of words and an integer n and returns the list of words that are longer than n.\n"
   ]
  },
  {
   "cell_type": "code",
   "execution_count": 19,
   "metadata": {},
   "outputs": [
    {
     "data": {
      "text/plain": [
       "['abcd', 'abcde']"
      ]
     },
     "execution_count": 19,
     "metadata": {},
     "output_type": "execute_result"
    }
   ],
   "source": [
    "def filter_long_words(lstofWords,n):\n",
    "    start = None\n",
    "    lst = []\n",
    "    try:\n",
    "        start = lstofWords[0]\n",
    "    except Exception:\n",
    "        return 'List is empty'\n",
    "\n",
    "    for word in lstofWords:\n",
    "        if(len(word)>n):\n",
    "            lst.append(word)\n",
    "    return lst\n",
    "\n",
    "filter_long_words(['a','abcd','ab',' ','abcde','abc'],3)"
   ]
  },
  {
   "cell_type": "code",
   "execution_count": 15,
   "metadata": {},
   "outputs": [],
   "source": [
    "#Write a Python program using function concept that maps list of words into a list of integers\n",
    "#representing the lengths of the corresponding words"
   ]
  },
  {
   "cell_type": "code",
   "execution_count": 16,
   "metadata": {},
   "outputs": [
    {
     "data": {
      "text/plain": [
       "[1, 4, 2, 0, 5, 3]"
      ]
     },
     "execution_count": 16,
     "metadata": {},
     "output_type": "execute_result"
    }
   ],
   "source": [
    "def word_len_lst(lstofWords):\n",
    "    start = None\n",
    "    lst = []\n",
    "    try:\n",
    "        start = lstofWords[0]\n",
    "    except Exception:\n",
    "        return 'List is empty'\n",
    "\n",
    "    for word in lstofWords:\n",
    "        lst.append(len(word))\n",
    "        \n",
    "    return lst\n",
    "\n",
    "word_len_lst(['a','abcd','ab','','abcde','abc'])"
   ]
  },
  {
   "cell_type": "code",
   "execution_count": 17,
   "metadata": {},
   "outputs": [],
   "source": [
    "#Write a Python function which takes a character (i.e. a string of length 1) and returns True if it is a vowel, False otherwise."
   ]
  },
  {
   "cell_type": "code",
   "execution_count": 18,
   "metadata": {},
   "outputs": [
    {
     "name": "stdout",
     "output_type": "stream",
     "text": [
      "True\n",
      "False\n"
     ]
    }
   ],
   "source": [
    "#covert the given character to lower and check if it is present in aeiou\n",
    "def isVowel(c):\n",
    "    return c.lower() in 'aeiou'\n",
    "print(isVowel('a'))\n",
    "print(isVowel('b'))"
   ]
  }
 ],
 "metadata": {
  "kernelspec": {
   "display_name": "Python 3",
   "language": "python",
   "name": "python3"
  },
  "language_info": {
   "codemirror_mode": {
    "name": "ipython",
    "version": 3
   },
   "file_extension": ".py",
   "mimetype": "text/x-python",
   "name": "python",
   "nbconvert_exporter": "python",
   "pygments_lexer": "ipython3",
   "version": "3.7.3"
  }
 },
 "nbformat": 4,
 "nbformat_minor": 2
}
