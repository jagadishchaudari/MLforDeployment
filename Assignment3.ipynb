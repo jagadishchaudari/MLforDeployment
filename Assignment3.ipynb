{
 "cells": [
  {
   "cell_type": "markdown",
   "metadata": {},
   "source": [
    "# Task 1"
   ]
  },
  {
   "cell_type": "code",
   "execution_count": 1,
   "metadata": {},
   "outputs": [],
   "source": [
    "#Write a function to compute 5/0 and use try/except to catch the exceptions."
   ]
  },
  {
   "cell_type": "code",
   "execution_count": 2,
   "metadata": {},
   "outputs": [
    {
     "name": "stdout",
     "output_type": "stream",
     "text": [
      "division by zero exception occured\n",
      "Can do some task in this block before we exit this function\n"
     ]
    }
   ],
   "source": [
    "def compute():\n",
    "    try:\n",
    "        5/0\n",
    "    except (ZeroDivisionError) as e:\n",
    "        print(str(e) +\" exception occured\")\n",
    "    except Exception as f:\n",
    "        print(str(f) +\" general exception occured\")\n",
    "    finally:\n",
    "        print('Can do some task in this block before we exit this function')\n",
    "        \n",
    "compute()"
   ]
  },
  {
   "cell_type": "code",
   "execution_count": 3,
   "metadata": {},
   "outputs": [],
   "source": [
    "#Implement a Python program to generate all sentences where subject is in [\"Americans\", \"Indians\"] and verb is in [\"Play\", \"watch\"] and the object is in [\"Baseball\",\"cricket\"].\n",
    "# Americans play Baseball.\n",
    "# Americans play Cricket.\n",
    "# Americans watch Baseball.\n",
    "# Americans watch Cricket.\n",
    "# Indians play Baseball.\n",
    "# Indians play Cricket. \n",
    "# Indians watch Baseball. \n",
    "# Indians watch Cricket\n"
   ]
  },
  {
   "cell_type": "code",
   "execution_count": 4,
   "metadata": {},
   "outputs": [
    {
     "name": "stdout",
     "output_type": "stream",
     "text": [
      "Americans play Baseball\n",
      "Americans play Cricket\n",
      "Americans watch Baseball\n",
      "Americans watch Cricket\n",
      "Indians play Baseball\n",
      "Indians play Cricket\n",
      "Indians watch Baseball\n",
      "Indians watch Cricket\n"
     ]
    }
   ],
   "source": [
    "def generate_all_sentences():\n",
    "    subjects=[\"Americans\",\"Indians\"] \n",
    "    verbs=[\"play\",\"watch\"] \n",
    "    objects=[\"Baseball\",\"Cricket\"]\n",
    "     \n",
    "    for x in subjects:\n",
    "        for y in verbs:\n",
    "            for z in objects:\n",
    "                yield x+' '+y+' '+z # Yield each sentence and control comes back to this line\n",
    "\n",
    "for i in generate_all_sentences():\n",
    "    print(i)"
   ]
  },
  {
   "cell_type": "markdown",
   "metadata": {},
   "source": [
    "# Task 2"
   ]
  },
  {
   "cell_type": "code",
   "execution_count": 5,
   "metadata": {},
   "outputs": [],
   "source": [
    "#Write a function so that the columns of the output matrix are powers of the input vector.\n",
    "#The order of the powers is determined by the increasing boolean argument. Specifically, when increasing is False, the i-th output column is the input vector raised element-wise to the power of N - i - 1."
   ]
  },
  {
   "cell_type": "code",
   "execution_count": 8,
   "metadata": {},
   "outputs": [
    {
     "name": "stdout",
     "output_type": "stream",
     "text": [
      "[[1, 1, 1, 1], [1, 2, 4, 8], [1, 3, 9, 27], [1, 5, 25, 125]]\n",
      "[[1, 1, 1], [4, 2, 1], [9, 3, 1], [25, 5, 1]]\n"
     ]
    }
   ],
   "source": [
    "def my_vander(lst,N=None,increasing=False):\n",
    "    res =[]\n",
    "    #if N is none take the length of the list\n",
    "    if N is None:\n",
    "        N = len(lst)\n",
    "    #check for boolean value as to go in increasing or decreasing order\n",
    "    if increasing is True:\n",
    "        res = [[x**i for i in range(N)] for x in lst]\n",
    "    else:\n",
    "        res = [[x**i for i in range(N-1,-1,-1)] for x in lst]\n",
    "\n",
    "    print(res)\n",
    "\n",
    "#output the matrix in the non-decreasing orde\n",
    "my_vander([1,2,3,5],increasing=True)\n",
    "#output the matrix in the decreasing order on (N=3) columns\n",
    "my_vander([1,2,3,5],3)"
   ]
  }
 ],
 "metadata": {
  "kernelspec": {
   "display_name": "Python 3",
   "language": "python",
   "name": "python3"
  },
  "language_info": {
   "codemirror_mode": {
    "name": "ipython",
    "version": 3
   },
   "file_extension": ".py",
   "mimetype": "text/x-python",
   "name": "python",
   "nbconvert_exporter": "python",
   "pygments_lexer": "ipython3",
   "version": "3.7.3"
  }
 },
 "nbformat": 4,
 "nbformat_minor": 2
}
